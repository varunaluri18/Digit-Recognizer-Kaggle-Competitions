{
  "nbformat": 4,
  "nbformat_minor": 0,
  "metadata": {
    "colab": {
      "name": "kaggle digit recoginition.ipynb",
      "provenance": [],
      "collapsed_sections": []
    },
    "kernelspec": {
      "name": "python3",
      "display_name": "Python 3"
    },
    "accelerator": "GPU"
  },
  "cells": [
    {
      "cell_type": "code",
      "metadata": {
        "id": "l5NvxLBrgXbY",
        "colab_type": "code",
        "colab": {}
      },
      "source": [
        "import pandas as pd\n",
        "import numpy as np\n",
        "import seaborn as sn\n",
        "import matplotlib.pyplot as plt"
      ],
      "execution_count": 0,
      "outputs": []
    },
    {
      "cell_type": "code",
      "metadata": {
        "id": "mTmCXFBvgnI5",
        "colab_type": "code",
        "colab": {}
      },
      "source": [
        "train=pd.read_csv('/content/train.csv')\n",
        "test=pd.read_csv('/content/train.csv')\n",
        "sample=pd.read_csv('/content/sample_submission.csv')"
      ],
      "execution_count": 0,
      "outputs": []
    },
    {
      "cell_type": "code",
      "metadata": {
        "id": "rxfYOUXtg6q4",
        "colab_type": "code",
        "colab": {
          "base_uri": "https://localhost:8080/",
          "height": 68
        },
        "outputId": "8dd3ed5d-f4c4-4af3-92c5-f1493f21b57f"
      },
      "source": [
        "print(train.shape)\n",
        "print(test.shape)\n",
        "print(sample.shape)"
      ],
      "execution_count": 15,
      "outputs": [
        {
          "output_type": "stream",
          "text": [
            "(2290, 785)\n",
            "(2290, 785)\n",
            "(28000, 2)\n"
          ],
          "name": "stdout"
        }
      ]
    },
    {
      "cell_type": "code",
      "metadata": {
        "id": "6xNnaeO0hM6l",
        "colab_type": "code",
        "colab": {}
      },
      "source": [
        "print(train.isnull().sum())\n",
        "print(test.isnull().sum())\n",
        "print(sample.isnull().sum())"
      ],
      "execution_count": 0,
      "outputs": []
    },
    {
      "cell_type": "code",
      "metadata": {
        "id": "Ohp3GBSTjQvJ",
        "colab_type": "code",
        "colab": {
          "base_uri": "https://localhost:8080/",
          "height": 51
        },
        "outputId": "22ba3d15-0d7b-4674-d833-404cd26fbd3f"
      },
      "source": [
        "train.dropna(inplace=True)\n",
        "test.dropna(inplace=True)\n",
        "print(train.shape)\n",
        "print(test.shape)"
      ],
      "execution_count": 29,
      "outputs": [
        {
          "output_type": "stream",
          "text": [
            "(2289, 785)\n",
            "(2289, 785)\n"
          ],
          "name": "stdout"
        }
      ]
    },
    {
      "cell_type": "code",
      "metadata": {
        "id": "-zD8YGPGl41j",
        "colab_type": "code",
        "colab": {}
      },
      "source": [
        "var=pd.concat([train,test],axis=0)"
      ],
      "execution_count": 0,
      "outputs": []
    },
    {
      "cell_type": "code",
      "metadata": {
        "id": "CdBA7Vdjl5Hm",
        "colab_type": "code",
        "colab": {
          "base_uri": "https://localhost:8080/",
          "height": 34
        },
        "outputId": "c7a19ac4-f472-45ae-f6ce-494c50c76b13"
      },
      "source": [
        "var.shape"
      ],
      "execution_count": 54,
      "outputs": [
        {
          "output_type": "execute_result",
          "data": {
            "text/plain": [
              "(4578, 785)"
            ]
          },
          "metadata": {
            "tags": []
          },
          "execution_count": 54
        }
      ]
    },
    {
      "cell_type": "code",
      "metadata": {
        "id": "MZePNBADiqSA",
        "colab_type": "code",
        "colab": {
          "base_uri": "https://localhost:8080/",
          "height": 51
        },
        "outputId": "9bf45a96-d2b6-435a-a0d0-35c66832db59"
      },
      "source": [
        "X=train.iloc[:,1:]\n",
        "print(X.shape)\n",
        "y=train['label']\n",
        "print(y.shape)"
      ],
      "execution_count": 28,
      "outputs": [
        {
          "output_type": "stream",
          "text": [
            "(2289, 784)\n",
            "(2289,)\n"
          ],
          "name": "stdout"
        }
      ]
    },
    {
      "cell_type": "code",
      "metadata": {
        "id": "Wh4EdbYPiPMx",
        "colab_type": "code",
        "colab": {}
      },
      "source": [
        "from sklearn.model_selection import train_test_split\n",
        "X_train,X_test,y_train,y_test=train_test_split(X,y,test_size=0.20,random_state=0)"
      ],
      "execution_count": 0,
      "outputs": []
    },
    {
      "cell_type": "code",
      "metadata": {
        "id": "Is_yxa7akT5A",
        "colab_type": "code",
        "colab": {}
      },
      "source": [
        "from sklearn.ensemble import RandomForestClassifier\n",
        "model=RandomForestClassifier(n_estimators=1000,criterion='entropy',random_state=0)"
      ],
      "execution_count": 0,
      "outputs": []
    },
    {
      "cell_type": "code",
      "metadata": {
        "id": "hlAvRz3TwVXf",
        "colab_type": "code",
        "colab": {
          "base_uri": "https://localhost:8080/",
          "height": 153
        },
        "outputId": "42d04300-e640-40dd-ef56-0e77d20483d1"
      },
      "source": [
        "model"
      ],
      "execution_count": 110,
      "outputs": [
        {
          "output_type": "execute_result",
          "data": {
            "text/plain": [
              "RandomForestClassifier(bootstrap=True, ccp_alpha=0.0, class_weight=None,\n",
              "                       criterion='entropy', max_depth=None, max_features='auto',\n",
              "                       max_leaf_nodes=None, max_samples=None,\n",
              "                       min_impurity_decrease=0.0, min_impurity_split=None,\n",
              "                       min_samples_leaf=1, min_samples_split=2,\n",
              "                       min_weight_fraction_leaf=0.0, n_estimators=1000,\n",
              "                       n_jobs=None, oob_score=False, random_state=0, verbose=0,\n",
              "                       warm_start=False)"
            ]
          },
          "metadata": {
            "tags": []
          },
          "execution_count": 110
        }
      ]
    },
    {
      "cell_type": "code",
      "metadata": {
        "id": "H-Ad_4nakmtR",
        "colab_type": "code",
        "colab": {
          "base_uri": "https://localhost:8080/",
          "height": 153
        },
        "outputId": "b976cd23-25ef-43a6-c957-1c181ab184e9"
      },
      "source": [
        "model.fit(X_train,y_train)"
      ],
      "execution_count": 111,
      "outputs": [
        {
          "output_type": "execute_result",
          "data": {
            "text/plain": [
              "RandomForestClassifier(bootstrap=True, ccp_alpha=0.0, class_weight=None,\n",
              "                       criterion='entropy', max_depth=None, max_features='auto',\n",
              "                       max_leaf_nodes=None, max_samples=None,\n",
              "                       min_impurity_decrease=0.0, min_impurity_split=None,\n",
              "                       min_samples_leaf=1, min_samples_split=2,\n",
              "                       min_weight_fraction_leaf=0.0, n_estimators=1000,\n",
              "                       n_jobs=None, oob_score=False, random_state=0, verbose=0,\n",
              "                       warm_start=False)"
            ]
          },
          "metadata": {
            "tags": []
          },
          "execution_count": 111
        }
      ]
    },
    {
      "cell_type": "code",
      "metadata": {
        "id": "MY4vCKm7koU_",
        "colab_type": "code",
        "colab": {
          "base_uri": "https://localhost:8080/",
          "height": 34
        },
        "outputId": "618d5ea8-60a1-4f0f-8c62-7c3c24e69cc9"
      },
      "source": [
        "y_pred=model.predict(X_test)\n",
        "print(y_pred)"
      ],
      "execution_count": 130,
      "outputs": [
        {
          "output_type": "stream",
          "text": [
            "[8 7 6 ... 0 2 5]\n"
          ],
          "name": "stdout"
        }
      ]
    },
    {
      "cell_type": "code",
      "metadata": {
        "id": "cIEd__5slF0O",
        "colab_type": "code",
        "colab": {}
      },
      "source": [
        "from sklearn.metrics import accuracy_score,confusion_matrix"
      ],
      "execution_count": 0,
      "outputs": []
    },
    {
      "cell_type": "code",
      "metadata": {
        "id": "zlQtGMs0lO8I",
        "colab_type": "code",
        "colab": {
          "base_uri": "https://localhost:8080/",
          "height": 34
        },
        "outputId": "fb9d65b1-5395-4dbb-e900-aaf3fc6ece86"
      },
      "source": [
        "#cm=confusion_matrix(y_pred,y_test)\n",
        "ac=accuracy_score(y_pred,y_test)\n",
        "#print(cm)\n",
        "print(ac)"
      ],
      "execution_count": 131,
      "outputs": [
        {
          "output_type": "stream",
          "text": [
            "0.9880357142857142\n"
          ],
          "name": "stdout"
        }
      ]
    },
    {
      "cell_type": "code",
      "metadata": {
        "id": "4NbX0eGWpwqb",
        "colab_type": "code",
        "colab": {}
      },
      "source": [
        "var1=var\n",
        "var2=var\n",
        "var3=var\n",
        "var4=var\n",
        "var5=var\n",
        "var6=var"
      ],
      "execution_count": 0,
      "outputs": []
    },
    {
      "cell_type": "code",
      "metadata": {
        "id": "ZSozZDiipw1q",
        "colab_type": "code",
        "colab": {}
      },
      "source": [
        "var7=pd.concat([var1,var2],axis=0)\n",
        "var8=pd.concat([var3,var4],axis=0)\n",
        "var9=pd.concat([var5,var6],axis=0)\n",
        "var10=pd.concat([var7,var8],axis=0)\n",
        "var11=pd.concat([var9,var10],axis=0)\n",
        "var12=pd.concat([var,var11],axis=0)"
      ],
      "execution_count": 0,
      "outputs": []
    },
    {
      "cell_type": "code",
      "metadata": {
        "id": "PMlFRaXuqkp5",
        "colab_type": "code",
        "colab": {
          "base_uri": "https://localhost:8080/",
          "height": 68
        },
        "outputId": "9dc29ec4-9430-4c8b-d330-aed712d314ff"
      },
      "source": [
        "print(var12.shape)\n",
        "z_pred=var12.iloc[:28000,1:]\n",
        "print(z_pred.shape)\n",
        "print(sample.shape)"
      ],
      "execution_count": 89,
      "outputs": [
        {
          "output_type": "stream",
          "text": [
            "(32046, 785)\n",
            "(28000, 784)\n",
            "(28000, 2)\n"
          ],
          "name": "stdout"
        }
      ]
    },
    {
      "cell_type": "code",
      "metadata": {
        "id": "n8MigN5nllrn",
        "colab_type": "code",
        "colab": {}
      },
      "source": [
        "#Submitting the MODEL in Kaggle\n",
        "pred=pd.DataFrame(y_pred)\n",
        "sample=pd.read_csv('/content/sample_submission.csv')\n",
        "datasets=pd.concat([sample['ImageId'],pred],axis=1)\n",
        "datasets.columns=['ImageId','Label']\n",
        "datasets.to_csv('final_sub.csv',index=False)"
      ],
      "execution_count": 0,
      "outputs": []
    },
    {
      "cell_type": "code",
      "metadata": {
        "id": "zv8YBcpWyzeA",
        "colab_type": "code",
        "colab": {
          "base_uri": "https://localhost:8080/",
          "height": 34
        },
        "outputId": "415cb01f-e980-4f78-cbb4-4a5e03c64c16"
      },
      "source": [
        "var_final=var12.iloc[:28000,:]\n",
        "print(var_final.shape)"
      ],
      "execution_count": 117,
      "outputs": [
        {
          "output_type": "stream",
          "text": [
            "(28000, 785)\n"
          ],
          "name": "stdout"
        }
      ]
    },
    {
      "cell_type": "code",
      "metadata": {
        "id": "Kcmg1-JszafN",
        "colab_type": "code",
        "colab": {}
      },
      "source": [
        "X=var_final.iloc[:,1:]\n",
        "y=var_final['label']"
      ],
      "execution_count": 0,
      "outputs": []
    },
    {
      "cell_type": "code",
      "metadata": {
        "id": "FTqUB_E7y1mF",
        "colab_type": "code",
        "colab": {
          "base_uri": "https://localhost:8080/",
          "height": 51
        },
        "outputId": "40142d86-205d-4c01-a974-a11b517da6e6"
      },
      "source": [
        "print(X.shape)\n",
        "print(y.shape)"
      ],
      "execution_count": 121,
      "outputs": [
        {
          "output_type": "stream",
          "text": [
            "(28000, 784)\n",
            "(28000,)\n"
          ],
          "name": "stdout"
        }
      ]
    },
    {
      "cell_type": "code",
      "metadata": {
        "id": "OuSd4uN20A1f",
        "colab_type": "code",
        "colab": {}
      },
      "source": [
        "from sklearn.model_selection import train_test_split\n",
        "X_train,X_test,y_train,y_test=train_test_split(X,y,test_size=0.20,random_state=0)"
      ],
      "execution_count": 0,
      "outputs": []
    },
    {
      "cell_type": "code",
      "metadata": {
        "id": "fdjV08bcvEnT",
        "colab_type": "code",
        "colab": {}
      },
      "source": [
        "import keras\n",
        "from keras.models import Sequential\n",
        "from keras.layers import Dense\n",
        "from keras.layers import LeakyReLU,PReLU,ELU\n",
        "from keras.layers import Dropout"
      ],
      "execution_count": 0,
      "outputs": []
    },
    {
      "cell_type": "code",
      "metadata": {
        "id": "xqpzkYU5ydyC",
        "colab_type": "code",
        "colab": {
          "base_uri": "https://localhost:8080/",
          "height": 139
        },
        "outputId": "1b5e07e6-91b4-4b7a-fbce-8c6d70f60e9a"
      },
      "source": [
        "# Initialising the ANN\n",
        "classifier = Sequential()\n",
        "\n",
        "# Adding the input layer and the first hidden layer\n",
        "classifier.add(Dense(output_dim = 6, init = 'he_uniform',activation='relu',input_dim = 784))\n",
        "\n",
        "# Adding the second hidden layer\n",
        "classifier.add(Dense(output_dim = 6, init = 'he_uniform',activation='relu'))\n",
        "# Adding the output layer\n",
        "classifier.add(Dense(output_dim = 1, init = 'glorot_uniform', activation = 'sigmoid'))\n",
        "\n",
        "# Compiling the ANN\n",
        "classifier.compile(optimizer = 'Adamax', loss = 'binary_crossentropy', metrics = ['accuracy'])"
      ],
      "execution_count": 124,
      "outputs": [
        {
          "output_type": "stream",
          "text": [
            "/usr/local/lib/python3.6/dist-packages/ipykernel_launcher.py:4: UserWarning: Update your `Dense` call to the Keras 2 API: `Dense(activation=\"relu\", input_dim=784, units=6, kernel_initializer=\"he_uniform\")`\n",
            "  after removing the cwd from sys.path.\n",
            "/usr/local/lib/python3.6/dist-packages/ipykernel_launcher.py:7: UserWarning: Update your `Dense` call to the Keras 2 API: `Dense(activation=\"relu\", units=6, kernel_initializer=\"he_uniform\")`\n",
            "  import sys\n",
            "/usr/local/lib/python3.6/dist-packages/ipykernel_launcher.py:9: UserWarning: Update your `Dense` call to the Keras 2 API: `Dense(activation=\"sigmoid\", units=1, kernel_initializer=\"glorot_uniform\")`\n",
            "  if __name__ == '__main__':\n"
          ],
          "name": "stderr"
        }
      ]
    },
    {
      "cell_type": "code",
      "metadata": {
        "id": "9S9_-I-yynzw",
        "colab_type": "code",
        "colab": {
          "base_uri": "https://localhost:8080/",
          "height": 1000
        },
        "outputId": "2d72b5fd-e7e0-4a35-fe66-d0aa52eb5e03"
      },
      "source": [
        "# Fitting the ANN to the Training set\n",
        "model_history=classifier.fit(X_train, y_train,validation_split=0.33, batch_size = 10, nb_epoch = 100)"
      ],
      "execution_count": 125,
      "outputs": [
        {
          "output_type": "stream",
          "text": [
            "/usr/local/lib/python3.6/dist-packages/ipykernel_launcher.py:1: UserWarning: The `nb_epoch` argument in `fit` has been renamed `epochs`.\n",
            "  \"\"\"Entry point for launching an IPython kernel.\n"
          ],
          "name": "stderr"
        },
        {
          "output_type": "stream",
          "text": [
            "WARNING:tensorflow:From /usr/local/lib/python3.6/dist-packages/keras/backend/tensorflow_backend.py:1033: The name tf.assign_add is deprecated. Please use tf.compat.v1.assign_add instead.\n",
            "\n",
            "WARNING:tensorflow:From /usr/local/lib/python3.6/dist-packages/keras/backend/tensorflow_backend.py:1020: The name tf.assign is deprecated. Please use tf.compat.v1.assign instead.\n",
            "\n",
            "WARNING:tensorflow:From /usr/local/lib/python3.6/dist-packages/keras/backend/tensorflow_backend.py:3005: The name tf.Session is deprecated. Please use tf.compat.v1.Session instead.\n",
            "\n",
            "Train on 15007 samples, validate on 7393 samples\n",
            "Epoch 1/100\n",
            "WARNING:tensorflow:From /usr/local/lib/python3.6/dist-packages/keras/backend/tensorflow_backend.py:190: The name tf.get_default_session is deprecated. Please use tf.compat.v1.get_default_session instead.\n",
            "\n",
            "WARNING:tensorflow:From /usr/local/lib/python3.6/dist-packages/keras/backend/tensorflow_backend.py:197: The name tf.ConfigProto is deprecated. Please use tf.compat.v1.ConfigProto instead.\n",
            "\n",
            "WARNING:tensorflow:From /usr/local/lib/python3.6/dist-packages/keras/backend/tensorflow_backend.py:207: The name tf.global_variables is deprecated. Please use tf.compat.v1.global_variables instead.\n",
            "\n",
            "WARNING:tensorflow:From /usr/local/lib/python3.6/dist-packages/keras/backend/tensorflow_backend.py:216: The name tf.is_variable_initialized is deprecated. Please use tf.compat.v1.is_variable_initialized instead.\n",
            "\n",
            "WARNING:tensorflow:From /usr/local/lib/python3.6/dist-packages/keras/backend/tensorflow_backend.py:223: The name tf.variables_initializer is deprecated. Please use tf.compat.v1.variables_initializer instead.\n",
            "\n",
            "15007/15007 [==============================] - 16s 1ms/step - loss: -54.2530 - acc: 0.1121 - val_loss: -53.8673 - val_acc: 0.1146\n",
            "Epoch 2/100\n",
            "15007/15007 [==============================] - 8s 511us/step - loss: -54.3063 - acc: 0.1121 - val_loss: -53.8673 - val_acc: 0.1146\n",
            "Epoch 3/100\n",
            "15007/15007 [==============================] - 8s 508us/step - loss: -54.3063 - acc: 0.1121 - val_loss: -53.8673 - val_acc: 0.1146\n",
            "Epoch 4/100\n",
            "15007/15007 [==============================] - 8s 516us/step - loss: -54.3063 - acc: 0.1121 - val_loss: -53.8673 - val_acc: 0.1146\n",
            "Epoch 5/100\n",
            "15007/15007 [==============================] - 8s 517us/step - loss: -54.3063 - acc: 0.1121 - val_loss: -53.8673 - val_acc: 0.1146\n",
            "Epoch 6/100\n",
            "15007/15007 [==============================] - 8s 507us/step - loss: -54.3063 - acc: 0.1121 - val_loss: -53.8673 - val_acc: 0.1146\n",
            "Epoch 7/100\n",
            "15007/15007 [==============================] - 8s 514us/step - loss: -54.3063 - acc: 0.1121 - val_loss: -53.8673 - val_acc: 0.1146\n",
            "Epoch 8/100\n",
            "15007/15007 [==============================] - 8s 511us/step - loss: -54.3063 - acc: 0.1121 - val_loss: -53.8673 - val_acc: 0.1146\n",
            "Epoch 9/100\n",
            "15007/15007 [==============================] - 8s 512us/step - loss: -54.3063 - acc: 0.1121 - val_loss: -53.8673 - val_acc: 0.1146\n",
            "Epoch 10/100\n",
            "15007/15007 [==============================] - 8s 501us/step - loss: -54.3063 - acc: 0.1121 - val_loss: -53.8673 - val_acc: 0.1146\n",
            "Epoch 11/100\n",
            "15007/15007 [==============================] - 7s 495us/step - loss: -54.3063 - acc: 0.1121 - val_loss: -53.8673 - val_acc: 0.1146\n",
            "Epoch 12/100\n",
            "15007/15007 [==============================] - 8s 512us/step - loss: -54.3063 - acc: 0.1121 - val_loss: -53.8673 - val_acc: 0.1146\n",
            "Epoch 13/100\n",
            "15007/15007 [==============================] - 8s 515us/step - loss: -54.3063 - acc: 0.1121 - val_loss: -53.8673 - val_acc: 0.1146\n",
            "Epoch 14/100\n",
            "15007/15007 [==============================] - 8s 514us/step - loss: -54.3063 - acc: 0.1121 - val_loss: -53.8673 - val_acc: 0.1146\n",
            "Epoch 15/100\n",
            "15007/15007 [==============================] - 8s 503us/step - loss: -54.3063 - acc: 0.1121 - val_loss: -53.8673 - val_acc: 0.1146\n",
            "Epoch 16/100\n",
            "15007/15007 [==============================] - 8s 503us/step - loss: -54.3063 - acc: 0.1121 - val_loss: -53.8673 - val_acc: 0.1146\n",
            "Epoch 17/100\n",
            "15007/15007 [==============================] - 8s 506us/step - loss: -54.3063 - acc: 0.1121 - val_loss: -53.8673 - val_acc: 0.1146\n",
            "Epoch 18/100\n",
            "15007/15007 [==============================] - 8s 504us/step - loss: -54.3063 - acc: 0.1121 - val_loss: -53.8673 - val_acc: 0.1146\n",
            "Epoch 19/100\n",
            "15007/15007 [==============================] - 8s 507us/step - loss: -54.3063 - acc: 0.1121 - val_loss: -53.8673 - val_acc: 0.1146\n",
            "Epoch 20/100\n",
            "15007/15007 [==============================] - 8s 511us/step - loss: -54.3063 - acc: 0.1121 - val_loss: -53.8673 - val_acc: 0.1146\n",
            "Epoch 21/100\n",
            "15007/15007 [==============================] - 8s 511us/step - loss: -54.3063 - acc: 0.1121 - val_loss: -53.8673 - val_acc: 0.1146\n",
            "Epoch 22/100\n",
            "15007/15007 [==============================] - 8s 506us/step - loss: -54.3063 - acc: 0.1121 - val_loss: -53.8673 - val_acc: 0.1146\n",
            "Epoch 23/100\n",
            "15007/15007 [==============================] - 7s 499us/step - loss: -54.3063 - acc: 0.1121 - val_loss: -53.8673 - val_acc: 0.1146\n",
            "Epoch 24/100\n",
            "15007/15007 [==============================] - 8s 509us/step - loss: -54.3063 - acc: 0.1121 - val_loss: -53.8673 - val_acc: 0.1146\n",
            "Epoch 25/100\n",
            "15007/15007 [==============================] - 8s 533us/step - loss: -54.3063 - acc: 0.1121 - val_loss: -53.8673 - val_acc: 0.1146\n",
            "Epoch 26/100\n",
            "15007/15007 [==============================] - 8s 505us/step - loss: -54.3063 - acc: 0.1121 - val_loss: -53.8673 - val_acc: 0.1146\n",
            "Epoch 27/100\n",
            "15007/15007 [==============================] - 8s 503us/step - loss: -54.3063 - acc: 0.1121 - val_loss: -53.8673 - val_acc: 0.1146\n",
            "Epoch 28/100\n",
            "15007/15007 [==============================] - 8s 509us/step - loss: -54.3063 - acc: 0.1121 - val_loss: -53.8673 - val_acc: 0.1146\n",
            "Epoch 29/100\n",
            "15007/15007 [==============================] - 8s 509us/step - loss: -54.3063 - acc: 0.1121 - val_loss: -53.8673 - val_acc: 0.1146\n",
            "Epoch 30/100\n",
            "15007/15007 [==============================] - 8s 502us/step - loss: -54.3063 - acc: 0.1121 - val_loss: -53.8673 - val_acc: 0.1146\n",
            "Epoch 31/100\n",
            "15007/15007 [==============================] - 8s 507us/step - loss: -54.3063 - acc: 0.1121 - val_loss: -53.8673 - val_acc: 0.1146\n",
            "Epoch 32/100\n",
            "15007/15007 [==============================] - 8s 508us/step - loss: -54.3063 - acc: 0.1121 - val_loss: -53.8673 - val_acc: 0.1146\n",
            "Epoch 33/100\n",
            "15007/15007 [==============================] - 8s 508us/step - loss: -54.3063 - acc: 0.1121 - val_loss: -53.8673 - val_acc: 0.1146\n",
            "Epoch 34/100\n",
            "15007/15007 [==============================] - 8s 504us/step - loss: -54.3063 - acc: 0.1121 - val_loss: -53.8673 - val_acc: 0.1146\n",
            "Epoch 35/100\n",
            "15007/15007 [==============================] - 8s 525us/step - loss: -54.3063 - acc: 0.1121 - val_loss: -53.8673 - val_acc: 0.1146\n",
            "Epoch 36/100\n",
            "15007/15007 [==============================] - 8s 525us/step - loss: -54.3063 - acc: 0.1121 - val_loss: -53.8673 - val_acc: 0.1146\n",
            "Epoch 37/100\n",
            "15007/15007 [==============================] - 8s 507us/step - loss: -54.3063 - acc: 0.1121 - val_loss: -53.8673 - val_acc: 0.1146\n",
            "Epoch 38/100\n",
            "15007/15007 [==============================] - 8s 510us/step - loss: -54.3063 - acc: 0.1121 - val_loss: -53.8673 - val_acc: 0.1146\n",
            "Epoch 39/100\n",
            "15007/15007 [==============================] - 8s 505us/step - loss: -54.3063 - acc: 0.1121 - val_loss: -53.8673 - val_acc: 0.1146\n",
            "Epoch 40/100\n",
            "15007/15007 [==============================] - 8s 500us/step - loss: -54.3063 - acc: 0.1121 - val_loss: -53.8673 - val_acc: 0.1146\n",
            "Epoch 41/100\n",
            "15007/15007 [==============================] - 7s 499us/step - loss: -54.3063 - acc: 0.1121 - val_loss: -53.8673 - val_acc: 0.1146\n",
            "Epoch 42/100\n",
            "15007/15007 [==============================] - 8s 506us/step - loss: -54.3063 - acc: 0.1121 - val_loss: -53.8673 - val_acc: 0.1146\n",
            "Epoch 43/100\n",
            "15007/15007 [==============================] - 8s 504us/step - loss: -54.3063 - acc: 0.1121 - val_loss: -53.8673 - val_acc: 0.1146\n",
            "Epoch 44/100\n",
            "15007/15007 [==============================] - 8s 502us/step - loss: -54.3063 - acc: 0.1121 - val_loss: -53.8673 - val_acc: 0.1146\n",
            "Epoch 45/100\n",
            "15007/15007 [==============================] - 8s 506us/step - loss: -54.3063 - acc: 0.1121 - val_loss: -53.8673 - val_acc: 0.1146\n",
            "Epoch 46/100\n",
            "15007/15007 [==============================] - 8s 503us/step - loss: -54.3063 - acc: 0.1121 - val_loss: -53.8673 - val_acc: 0.1146\n",
            "Epoch 47/100\n",
            "15007/15007 [==============================] - 8s 505us/step - loss: -54.3063 - acc: 0.1121 - val_loss: -53.8673 - val_acc: 0.1146\n",
            "Epoch 48/100\n",
            "15007/15007 [==============================] - 8s 507us/step - loss: -54.3063 - acc: 0.1121 - val_loss: -53.8673 - val_acc: 0.1146\n",
            "Epoch 49/100\n",
            "15007/15007 [==============================] - 8s 508us/step - loss: -54.3063 - acc: 0.1121 - val_loss: -53.8673 - val_acc: 0.1146\n",
            "Epoch 50/100\n",
            "15007/15007 [==============================] - 8s 505us/step - loss: -54.3063 - acc: 0.1121 - val_loss: -53.8673 - val_acc: 0.1146\n",
            "Epoch 51/100\n",
            "15007/15007 [==============================] - 8s 506us/step - loss: -54.3063 - acc: 0.1121 - val_loss: -53.8673 - val_acc: 0.1146\n",
            "Epoch 52/100\n",
            "15007/15007 [==============================] - 8s 512us/step - loss: -54.3063 - acc: 0.1121 - val_loss: -53.8673 - val_acc: 0.1146\n",
            "Epoch 53/100\n",
            "15007/15007 [==============================] - 8s 507us/step - loss: -54.3063 - acc: 0.1121 - val_loss: -53.8673 - val_acc: 0.1146\n",
            "Epoch 54/100\n",
            "15007/15007 [==============================] - 8s 509us/step - loss: -54.3063 - acc: 0.1121 - val_loss: -53.8673 - val_acc: 0.1146\n",
            "Epoch 55/100\n",
            "15007/15007 [==============================] - 8s 509us/step - loss: -54.3063 - acc: 0.1121 - val_loss: -53.8673 - val_acc: 0.1146\n",
            "Epoch 56/100\n",
            "15007/15007 [==============================] - 8s 505us/step - loss: -54.3063 - acc: 0.1121 - val_loss: -53.8673 - val_acc: 0.1146\n",
            "Epoch 57/100\n",
            "15007/15007 [==============================] - 8s 503us/step - loss: -54.3063 - acc: 0.1121 - val_loss: -53.8673 - val_acc: 0.1146\n",
            "Epoch 58/100\n",
            "15007/15007 [==============================] - 8s 508us/step - loss: -54.3063 - acc: 0.1121 - val_loss: -53.8673 - val_acc: 0.1146\n",
            "Epoch 59/100\n",
            "15007/15007 [==============================] - 8s 508us/step - loss: -54.3063 - acc: 0.1121 - val_loss: -53.8673 - val_acc: 0.1146\n",
            "Epoch 60/100\n",
            "15007/15007 [==============================] - 8s 508us/step - loss: -54.3063 - acc: 0.1121 - val_loss: -53.8673 - val_acc: 0.1146\n",
            "Epoch 61/100\n",
            "15007/15007 [==============================] - 8s 504us/step - loss: -54.3063 - acc: 0.1121 - val_loss: -53.8673 - val_acc: 0.1146\n",
            "Epoch 62/100\n",
            "15007/15007 [==============================] - 8s 513us/step - loss: -54.3063 - acc: 0.1121 - val_loss: -53.8673 - val_acc: 0.1146\n",
            "Epoch 63/100\n",
            "15007/15007 [==============================] - 8s 506us/step - loss: -54.3063 - acc: 0.1121 - val_loss: -53.8673 - val_acc: 0.1146\n",
            "Epoch 64/100\n",
            "15007/15007 [==============================] - 8s 506us/step - loss: -54.3063 - acc: 0.1121 - val_loss: -53.8673 - val_acc: 0.1146\n",
            "Epoch 65/100\n",
            "15007/15007 [==============================] - 8s 529us/step - loss: -54.3063 - acc: 0.1121 - val_loss: -53.8673 - val_acc: 0.1146\n",
            "Epoch 66/100\n",
            "15007/15007 [==============================] - 8s 503us/step - loss: -54.3063 - acc: 0.1121 - val_loss: -53.8673 - val_acc: 0.1146\n",
            "Epoch 67/100\n",
            "15007/15007 [==============================] - 7s 495us/step - loss: -54.3063 - acc: 0.1121 - val_loss: -53.8673 - val_acc: 0.1146\n",
            "Epoch 68/100\n",
            "15007/15007 [==============================] - 8s 505us/step - loss: -54.3063 - acc: 0.1121 - val_loss: -53.8673 - val_acc: 0.1146\n",
            "Epoch 69/100\n",
            "15007/15007 [==============================] - 8s 510us/step - loss: -54.3063 - acc: 0.1121 - val_loss: -53.8673 - val_acc: 0.1146\n",
            "Epoch 70/100\n",
            "15007/15007 [==============================] - 7s 498us/step - loss: -54.3063 - acc: 0.1121 - val_loss: -53.8673 - val_acc: 0.1146\n",
            "Epoch 71/100\n",
            "15007/15007 [==============================] - 8s 503us/step - loss: -54.3063 - acc: 0.1121 - val_loss: -53.8673 - val_acc: 0.1146\n",
            "Epoch 72/100\n",
            "15007/15007 [==============================] - 8s 504us/step - loss: -54.3063 - acc: 0.1121 - val_loss: -53.8673 - val_acc: 0.1146\n",
            "Epoch 73/100\n",
            "15007/15007 [==============================] - 8s 509us/step - loss: -54.3063 - acc: 0.1121 - val_loss: -53.8673 - val_acc: 0.1146\n",
            "Epoch 74/100\n",
            "15007/15007 [==============================] - 8s 519us/step - loss: -54.3063 - acc: 0.1121 - val_loss: -53.8673 - val_acc: 0.1146\n",
            "Epoch 75/100\n",
            "15007/15007 [==============================] - 8s 504us/step - loss: -54.3063 - acc: 0.1121 - val_loss: -53.8673 - val_acc: 0.1146\n",
            "Epoch 76/100\n",
            "15007/15007 [==============================] - 8s 538us/step - loss: -54.3063 - acc: 0.1121 - val_loss: -53.8673 - val_acc: 0.1146\n",
            "Epoch 77/100\n",
            "15007/15007 [==============================] - 8s 519us/step - loss: -54.3063 - acc: 0.1121 - val_loss: -53.8673 - val_acc: 0.1146\n",
            "Epoch 78/100\n",
            "15007/15007 [==============================] - 8s 502us/step - loss: -54.3063 - acc: 0.1121 - val_loss: -53.8673 - val_acc: 0.1146\n",
            "Epoch 79/100\n",
            "15007/15007 [==============================] - 8s 502us/step - loss: -54.3063 - acc: 0.1121 - val_loss: -53.8673 - val_acc: 0.1146\n",
            "Epoch 80/100\n",
            "15007/15007 [==============================] - 8s 502us/step - loss: -54.3063 - acc: 0.1121 - val_loss: -53.8673 - val_acc: 0.1146\n",
            "Epoch 81/100\n",
            "15007/15007 [==============================] - 8s 501us/step - loss: -54.3063 - acc: 0.1121 - val_loss: -53.8673 - val_acc: 0.1146\n",
            "Epoch 82/100\n",
            "15007/15007 [==============================] - 8s 501us/step - loss: -54.3063 - acc: 0.1121 - val_loss: -53.8673 - val_acc: 0.1146\n",
            "Epoch 83/100\n",
            "15007/15007 [==============================] - 8s 510us/step - loss: -54.3063 - acc: 0.1121 - val_loss: -53.8673 - val_acc: 0.1146\n",
            "Epoch 84/100\n",
            "15007/15007 [==============================] - 8s 508us/step - loss: -54.3063 - acc: 0.1121 - val_loss: -53.8673 - val_acc: 0.1146\n",
            "Epoch 85/100\n",
            "15007/15007 [==============================] - 8s 505us/step - loss: -54.3063 - acc: 0.1121 - val_loss: -53.8673 - val_acc: 0.1146\n",
            "Epoch 86/100\n",
            "15007/15007 [==============================] - 8s 503us/step - loss: -54.3063 - acc: 0.1121 - val_loss: -53.8673 - val_acc: 0.1146\n",
            "Epoch 87/100\n",
            "15007/15007 [==============================] - 8s 507us/step - loss: -54.3063 - acc: 0.1121 - val_loss: -53.8673 - val_acc: 0.1146\n",
            "Epoch 88/100\n",
            "15007/15007 [==============================] - 8s 505us/step - loss: -54.3063 - acc: 0.1121 - val_loss: -53.8673 - val_acc: 0.1146\n",
            "Epoch 89/100\n",
            "15007/15007 [==============================] - 8s 505us/step - loss: -54.3063 - acc: 0.1121 - val_loss: -53.8673 - val_acc: 0.1146\n",
            "Epoch 90/100\n",
            "15007/15007 [==============================] - 8s 505us/step - loss: -54.3063 - acc: 0.1121 - val_loss: -53.8673 - val_acc: 0.1146\n",
            "Epoch 91/100\n",
            "15007/15007 [==============================] - 7s 499us/step - loss: -54.3063 - acc: 0.1121 - val_loss: -53.8673 - val_acc: 0.1146\n",
            "Epoch 92/100\n",
            "15007/15007 [==============================] - 8s 518us/step - loss: -54.3063 - acc: 0.1121 - val_loss: -53.8673 - val_acc: 0.1146\n",
            "Epoch 93/100\n",
            "15007/15007 [==============================] - 8s 506us/step - loss: -54.3063 - acc: 0.1121 - val_loss: -53.8673 - val_acc: 0.1146\n",
            "Epoch 94/100\n",
            "15007/15007 [==============================] - 8s 505us/step - loss: -54.3063 - acc: 0.1121 - val_loss: -53.8673 - val_acc: 0.1146\n",
            "Epoch 95/100\n",
            "15007/15007 [==============================] - 8s 507us/step - loss: -54.3063 - acc: 0.1121 - val_loss: -53.8673 - val_acc: 0.1146\n",
            "Epoch 96/100\n",
            "15007/15007 [==============================] - 8s 501us/step - loss: -54.3063 - acc: 0.1121 - val_loss: -53.8673 - val_acc: 0.1146\n",
            "Epoch 97/100\n",
            "15007/15007 [==============================] - 7s 498us/step - loss: -54.3063 - acc: 0.1121 - val_loss: -53.8673 - val_acc: 0.1146\n",
            "Epoch 98/100\n",
            "15007/15007 [==============================] - 7s 498us/step - loss: -54.3063 - acc: 0.1121 - val_loss: -53.8673 - val_acc: 0.1146\n",
            "Epoch 99/100\n",
            "15007/15007 [==============================] - 7s 499us/step - loss: -54.3063 - acc: 0.1121 - val_loss: -53.8673 - val_acc: 0.1146\n",
            "Epoch 100/100\n",
            "15007/15007 [==============================] - 8s 507us/step - loss: -54.3063 - acc: 0.1121 - val_loss: -53.8673 - val_acc: 0.1146\n"
          ],
          "name": "stdout"
        }
      ]
    },
    {
      "cell_type": "code",
      "metadata": {
        "id": "kZ8V6lPCzlpB",
        "colab_type": "code",
        "colab": {}
      },
      "source": [
        "# Predicting the Test set results\n",
        "y_pred = classifier.predict(X_test)\n",
        "#y_pred = (y_pred > 0.5)"
      ],
      "execution_count": 0,
      "outputs": []
    },
    {
      "cell_type": "code",
      "metadata": {
        "id": "wqNnGlcg32No",
        "colab_type": "code",
        "colab": {
          "base_uri": "https://localhost:8080/",
          "height": 221
        },
        "outputId": "9b274658-ebbc-40c2-8747-2f8535a59bc7"
      },
      "source": [
        "# Making the Confusion Matrix\n",
        "from sklearn.metrics import confusion_matrix\n",
        "cm = confusion_matrix(y_test, y_pred)\n",
        "\n",
        "# Calculate the Accuracy\n",
        "from sklearn.metrics import accuracy_score\n",
        "score=accuracy_score(y_pred,y_test)\n",
        "\n",
        "print(cm)\n",
        "print()\n",
        "print(score)"
      ],
      "execution_count": 132,
      "outputs": [
        {
          "output_type": "stream",
          "text": [
            "[[549   0   0   0   0   2   8   0   0   0]\n",
            " [  0 638   0   0   4   2   0   0   0   0]\n",
            " [  0   1 611   0   0   0   0   1   0   0]\n",
            " [  0   0   2 484   0   0   0   0   1   0]\n",
            " [  0   0   0   0 543   0   0   0   0   2]\n",
            " [  0   0   1   5   0 510   0   0   0   0]\n",
            " [  0   0   1   0   0   0 577   0   2   0]\n",
            " [  0   5   2   0   0   0   0 524   0   6]\n",
            " [  0   1   0   7   0   0   0   0 507   8]\n",
            " [  3   0   0   0   3   0   0   0   0 590]]\n",
            "\n",
            "0.9880357142857142\n"
          ],
          "name": "stdout"
        }
      ]
    },
    {
      "cell_type": "code",
      "metadata": {
        "id": "YWmTJh124o-7",
        "colab_type": "code",
        "colab": {}
      },
      "source": [
        "qwerty=var_final.iloc[:,1:]"
      ],
      "execution_count": 0,
      "outputs": []
    },
    {
      "cell_type": "code",
      "metadata": {
        "id": "Ly1mtG4q5Hck",
        "colab_type": "code",
        "colab": {}
      },
      "source": [
        "y_pred = classifier.predict(qwerty)"
      ],
      "execution_count": 0,
      "outputs": []
    },
    {
      "cell_type": "code",
      "metadata": {
        "id": "_STc2DlM5Wf-",
        "colab_type": "code",
        "colab": {
          "base_uri": "https://localhost:8080/",
          "height": 34
        },
        "outputId": "d2659d5e-da39-4ec5-f066-8dd0139bcc68"
      },
      "source": [
        "len(y_pred)"
      ],
      "execution_count": 139,
      "outputs": [
        {
          "output_type": "execute_result",
          "data": {
            "text/plain": [
              "28000"
            ]
          },
          "metadata": {
            "tags": []
          },
          "execution_count": 139
        }
      ]
    },
    {
      "cell_type": "code",
      "metadata": {
        "id": "Dk4u7Mz14HFK",
        "colab_type": "code",
        "colab": {}
      },
      "source": [
        "#Submitting the MODEL in Kaggle\n",
        "pred=pd.DataFrame(y_pred)\n",
        "sample=pd.read_csv('/content/sample_submission.csv')\n",
        "datasets=pd.concat([sample['ImageId'],pred],axis=1)\n",
        "datasets.columns=['ImageId','Label']\n",
        "datasets.to_csv('final_ann.csv',index=False)"
      ],
      "execution_count": 0,
      "outputs": []
    },
    {
      "cell_type": "code",
      "metadata": {
        "id": "HxcpELAE5g51",
        "colab_type": "code",
        "colab": {}
      },
      "source": [
        ""
      ],
      "execution_count": 0,
      "outputs": []
    }
  ]
}